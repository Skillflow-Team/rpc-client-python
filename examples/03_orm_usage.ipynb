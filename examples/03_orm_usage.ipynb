{
 "cells": [
  {
   "cell_type": "markdown",
   "metadata": {},
   "source": [
    "# ORM Usage\n",
    "This notebook will look into integrating the Turing SDK by implementing the `ShortAnswerQuestion` object into an ORM model. For the purpose of simplicity, we will use the Django ORM in this notebook. However, as you will see, this integration works regardless of your ORM choice.\n",
    "\n",
    "To grade questions with Turing, you need to implement the two stages of the question grading lifecycle:\n",
    "1. **Question object creation**\n",
    "2. **Question grading request**\n",
    "\n",
    "Every request for question grading must address these two steps in one way or another. First, let's worry about creating a question object. As the name of this notebook suggests, we are going to create questions via an ORM model. To do this, we can implement an method on the ORM model, which utitlizes the fields of the model to create a `ShortAnswerQuestion` object.\n",
    "\n",
    "First let's set the stage with an ORM model."
   ]
  },
  {
   "cell_type": "markdown",
   "metadata": {},
   "source": [
    "## Defining an ORM Model"
   ]
  },
  {
   "cell_type": "code",
   "execution_count": null,
   "metadata": {},
   "outputs": [],
   "source": [
    "# models.py\n",
    "\n",
    "from django.db import models\n",
    "\n",
    "class QuizQuestion(models.Model):\n",
    "    \"\"\"Model representing a question in a quiz.\"\"\"\n",
    "\n",
    "    # Choices for `queston_type` field\n",
    "    FACTUAL = \"FA\"\n",
    "    OPTION = \"OP\"\n",
    "    ANALYSIS = \"AN\"\n",
    "    QUESTION_TYPE_CHOICES = [\n",
    "        (FACTUAL, \"Factual\"),\n",
    "        (OPINION, \"Opinion\"),\n",
    "        (ANALYSIS, \"Analysis\")\n",
    "    ]\n",
    "\n",
    "    # Model Fields\n",
    "    _id = models.UUIDField(primary_key=True)\n",
    "    question = models.CharField(max_length=100)\n",
    "    example_answer = models.CharField(max_length=250)\n",
    "    question_type = models.CharField(max_length=2, choices =QUESTION_TYPE_CHOICES, default=FACUTAL)\n",
    "\n",
    "    def __str__(self):\n",
    "        \"\"\"String for representing the QuizQuestion object.\"\"\"\n",
    "        return self.question"
   ]
  },
  {
   "cell_type": "markdown",
   "metadata": {},
   "source": [
    "With our model defined we can move on to handle creating the Turing `ShortAnswerQuestion` objects directly through the model."
   ]
  },
  {
   "cell_type": "markdown",
   "metadata": {},
   "source": [
    "## Creating `ShortAnswerQuestion` Objects"
   ]
  },
  {
   "cell_type": "code",
   "execution_count": null,
   "metadata": {},
   "outputs": [],
   "source": [
    "from django.db import models\n",
    "\n",
    "from turing.question import ShortAnswerQuestion, RubricType\n",
    "\n",
    "class QuizQuestion(models.Model):\n",
    "    FACTUAL = \"FA\"\n",
    "    OPTION = \"OP\"\n",
    "    ANALYSIS = \"AN\"\n",
    "    QUESTION_TYPE_CHOICES = [\n",
    "        (FACTUAL, \"Factual\"),\n",
    "        (OPINION, \"Opinion\"),\n",
    "        (ANALYSIS, \"Analysis\")\n",
    "    ]\n",
    "\n",
    "    _id = models.UUIDField(primary_key=True)\n",
    "    question = models.CharField(max_length=100)\n",
    "    example_answer = models.CharField(max_length=250)\n",
    "    question_type = models.CharField(max_length=2, choices =QUESTION_TYPE_CHOICES, default='FACTUAL')\n",
    "\n",
    "    def __str__(self):\n",
    "        return self.question\n",
    "\n",
    "    @property\n",
    "    def rubric_type(self):\n",
    "        \"\"\"Converts the question_type field to a RubricType object.\"\"\"\n",
    "        match self.question_type:\n",
    "            case self.FACTUAL:\n",
    "                return RubricType.FACTUAL\n",
    "            case self.OPINION:\n",
    "                return RubricType.COMMUNICATION_RUBRIC\n",
    "            case self.ANALYSIS:\n",
    "                return RubricType.ANALYTICAL_RUBRIC\n",
    "            case _:\n",
    "                return RubricType.CUSTOM_RUBRIC\n",
    "\n",
    "    @property\n",
    "    def turing_question(self):\n",
    "        \"\"\"Converts the QuizQuestion to a Turing ShortAnswerQuestion\"\"\"\n",
    "        return ShortAnswerQuestion.from_rubric_type(\n",
    "            question=self.question,\n",
    "            example_answer=self.example_answer,\n",
    "            rubric_type=self.rubric_type\n",
    "        )"
   ]
  },
  {
   "cell_type": "markdown",
   "metadata": {},
   "source": [
    "By implementing two simple properties into our ORM model, we were able to convert our standard Django model into a `ShortAnswerQuestion` factory. Now, we can finish the implementation by defining a `grade` method on our question model."
   ]
  },
  {
   "cell_type": "markdown",
   "metadata": {},
   "source": [
    "## Grading Method\n",
    "To keep with the Django theme, let's imagine we are in a view function now. We will call this the question grading view. In this view, we will query for a question through the `QuizQuestion` model, then use our properites and the provided `grade` method of the `ShortAnswerQuestion` object to grade the student's response with Turing. "
   ]
  },
  {
   "cell_type": "code",
   "execution_count": null,
   "metadata": {},
   "outputs": [],
   "source": [
    "\n",
    "from typing import Tuple\n",
    "\n",
    "from django.db import models\n",
    "from turing.question import ShortAnswerQuestion, RubricType\n",
    "\n",
    "class QuizQuestion(models.Model):\n",
    "    FACTUAL = \"FA\"\n",
    "    OPTION = \"OP\"\n",
    "    ANALYSIS = \"AN\"\n",
    "    QUESTION_TYPE_CHOICES = [\n",
    "        (FACTUAL, \"Factual\"),\n",
    "        (OPINION, \"Opinion\"),\n",
    "        (ANALYSIS, \"Analysis\")\n",
    "    ]\n",
    "\n",
    "    _id = models.UUIDField(primary_key=True)\n",
    "    question = models.CharField(max_length=100)\n",
    "    example_answer = models.CharField(max_length=250)\n",
    "    question_type = models.CharField(max_length=2, choices =QUESTION_TYPE_CHOICES, default='FACTUAL')\n",
    "\n",
    "    def __str__(self):\n",
    "        return self.question\n",
    "\n",
    "    @property\n",
    "    def rubric_type(self):\n",
    "        \"\"\"Converts the question_type field to a RubricType object.\"\"\"\n",
    "        match self.question_type:\n",
    "            case self.FACTUAL:\n",
    "                return RubricType.FACTUAL\n",
    "            case self.OPINION:\n",
    "                return RubricType.COMMUNICATION_RUBRIC\n",
    "            case self.ANALYSIS:\n",
    "                return RubricType.ANALYTICAL_RUBRIC\n",
    "            case _:\n",
    "                return RubricType.CUSTOM_RUBRIC\n",
    "\n",
    "    @property\n",
    "    def turing_question(self):\n",
    "        \"\"\"Converts the QuizQuestion to a Turing ShortAnswerQuestion\"\"\"\n",
    "        return ShortAnswerQuestion.from_rubric_type(\n",
    "            question=self.question,\n",
    "            example_answer=self.example_answer,\n",
    "            rubric_type=self.rubric_type\n",
    "        )\n",
    "\n",
    "    def grade(self, answer: str) -> Tuple[str, float]:\n",
    "        \"\"\"Grades the answer and returns the feedback and score.\"\"\"\n",
    "        feedback, score = self.turing_question.grade(answer)\n",
    "        return feedback, score"
   ]
  },
  {
   "cell_type": "markdown",
   "metadata": {},
   "source": [
    "Now we can access our model object throughout the app. To finish the demonstration, let's look at how this model method could be invoked from a view.\n",
    "## Grading Questions\n",
    "We can implement the `grade` method of the question into a view function, to make Turing's grading fucntionality available to your servers clients. "
   ]
  },
  {
   "cell_type": "code",
   "execution_count": null,
   "metadata": {},
   "outputs": [],
   "source": [
    "from django.http import HttpRequest, HttpResponse\n",
    "from django.views.decorators import require_http_methods\n",
    "\n",
    "@require_http_methods([\"POST\"])\n",
    "def grade_short_answer_view(request: HttpRequest, question_id: str) -> HttpResponse:\n",
    "    \"\"\"View for grading a short answer question.\"\"\"\n",
    "    # Retrieve the question model from the database\n",
    "    question = Question.objects.get(_id=question_id)\n",
    "\n",
    "    # Extract the student's answer from the request payload\n",
    "    students_answer = request.POST.get(\"answer\")\n",
    "\n",
    "    # Grade the answer\n",
    "    feedback, score = question.grade(students_answer)\n",
    "\n",
    "    # Return the feedback and score to the student\n",
    "    return HttpResponse({'feedback': feedback, 'score': score}, status=200)\n"
   ]
  },
  {
   "cell_type": "markdown",
   "metadata": {},
   "source": [
    "From this standpoint, it is clear to see how ORM integration is the recommended installation pattern for Turing's SDK. This implementation gives us a clean interface for utilizing Turing's API as an instance method on our projects predfined models. This gives implementation provides a setup in which the grading logic is completely contained to the model-layer of your application. \n",
    "\n",
    "It is important to note that your use case may vary. You may find it useful to subclass the `ShortAnswerQuestion` object either directly through your ORM model or to build a wrapper for the the question object that can enable Turing to interact with multiple components of your application. The main purpose of this notebook was to demonstrate how simple and flexible the Turing SDK can be. "
   ]
  }
 ],
 "metadata": {
  "kernelspec": {
   "display_name": "venv",
   "language": "python",
   "name": "python3"
  },
  "language_info": {
   "name": "python",
   "version": "3.11.4"
  }
 },
 "nbformat": 4,
 "nbformat_minor": 2
}
